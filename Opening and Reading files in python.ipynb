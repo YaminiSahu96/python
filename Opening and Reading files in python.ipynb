{
 "cells": [
  {
   "cell_type": "code",
   "execution_count": 1,
   "metadata": {},
   "outputs": [
    {
     "data": {
      "text/plain": [
       "'C:\\\\Users\\\\yamin\\\\Documents\\\\Python Scripts\\\\yami_python'"
      ]
     },
     "execution_count": 1,
     "metadata": {},
     "output_type": "execute_result"
    }
   ],
   "source": [
    "pwd"
   ]
  },
  {
   "cell_type": "code",
   "execution_count": 2,
   "metadata": {},
   "outputs": [
    {
     "data": {
      "text/plain": [
       "'C:\\\\Users\\\\yamin\\\\Documents\\\\Python Scripts\\\\yami_python'"
      ]
     },
     "execution_count": 2,
     "metadata": {},
     "output_type": "execute_result"
    }
   ],
   "source": [
    "pwd"
   ]
  },
  {
   "cell_type": "code",
   "execution_count": 4,
   "metadata": {},
   "outputs": [
    {
     "data": {
      "text/plain": [
       "'C:\\\\Users\\\\yamin\\\\Documents\\\\Python Scripts\\\\yami_python'"
      ]
     },
     "execution_count": 4,
     "metadata": {},
     "output_type": "execute_result"
    }
   ],
   "source": [
    "pwd"
   ]
  },
  {
   "cell_type": "code",
   "execution_count": 6,
   "metadata": {},
   "outputs": [],
   "source": [
    "f = open('practice.txt','w+')\n",
    "f.write('This is a test string')\n",
    "f.close()"
   ]
  },
  {
   "cell_type": "code",
   "execution_count": 8,
   "metadata": {},
   "outputs": [],
   "source": [
    "import os"
   ]
  },
  {
   "cell_type": "code",
   "execution_count": 9,
   "metadata": {},
   "outputs": [
    {
     "data": {
      "text/plain": [
       "'C:\\\\Users\\\\yamin\\\\Documents\\\\Python Scripts\\\\yami_python'"
      ]
     },
     "execution_count": 9,
     "metadata": {},
     "output_type": "execute_result"
    }
   ],
   "source": [
    "os.getcwd()"
   ]
  },
  {
   "cell_type": "code",
   "execution_count": 17,
   "metadata": {},
   "outputs": [
    {
     "data": {
      "text/plain": [
       "['.ipynb_checkpoints',\n",
       " 'args & kwargs.ipynb',\n",
       " 'Assignment.ipynb',\n",
       " 'Challenging problems.ipynb',\n",
       " 'Collections.ipynb',\n",
       " 'Decoraters.ipynb',\n",
       " 'Dictonaries.ipynb',\n",
       " 'Error Handling & Exceptions.ipynb',\n",
       " 'for Loops.ipynb',\n",
       " 'function practice.ipynb',\n",
       " 'If - elif.ipynb',\n",
       " 'Lambda expressions.ipynb',\n",
       " 'List comprehensions.ipynb',\n",
       " 'List.ipynb',\n",
       " 'Methods & Functions.ipynb',\n",
       " 'MIXED FUNCTIONS.ipynb',\n",
       " 'myexample.py',\n",
       " 'myfile.txt',\n",
       " 'myfirstnotebook.ipynb',\n",
       " 'my_new_file.txt',\n",
       " 'my_new_line.txt',\n",
       " 'Nested Statements Scope.ipynb',\n",
       " 'Numbers.ipynb',\n",
       " 'OOPS Concept.ipynb',\n",
       " 'Opening and Reading files in python.ipynb',\n",
       " 'Operators.ipynb',\n",
       " 'Project-2',\n",
       " 'Project-3.ipynb',\n",
       " 'Project1.ipynb',\n",
       " 'PROJECT_1.ipynb',\n",
       " 'Strings.ipynb',\n",
       " 'Text.ipynb',\n",
       " 'tuples.ipynb',\n",
       " 'Untitled.ipynb',\n",
       " 'variables.ipynb',\n",
       " 'While loops.ipynb']"
      ]
     },
     "execution_count": 17,
     "metadata": {},
     "output_type": "execute_result"
    }
   ],
   "source": [
    "os.listdir()"
   ]
  },
  {
   "cell_type": "code",
   "execution_count": 11,
   "metadata": {},
   "outputs": [
    {
     "data": {
      "text/plain": [
       "['All Users', 'Default', 'Default User', 'desktop.ini', 'Public', 'yamin']"
      ]
     },
     "execution_count": 11,
     "metadata": {},
     "output_type": "execute_result"
    }
   ],
   "source": [
    "os.listdir('C:\\\\Users')"
   ]
  },
  {
   "cell_type": "code",
   "execution_count": 12,
   "metadata": {},
   "outputs": [],
   "source": [
    "import shutil"
   ]
  },
  {
   "cell_type": "code",
   "execution_count": 14,
   "metadata": {},
   "outputs": [
    {
     "data": {
      "text/plain": [
       "'C:\\\\Users\\\\yamin\\\\practice.txt'"
      ]
     },
     "execution_count": 14,
     "metadata": {},
     "output_type": "execute_result"
    }
   ],
   "source": [
    "shutil.move('practice.txt','C:\\\\Users\\\\yamin')"
   ]
  },
  {
   "cell_type": "code",
   "execution_count": 15,
   "metadata": {},
   "outputs": [
    {
     "data": {
      "text/plain": [
       "'C:\\\\Users\\\\yamin\\\\Documents\\\\Python Scripts\\\\yami_python'"
      ]
     },
     "execution_count": 15,
     "metadata": {},
     "output_type": "execute_result"
    }
   ],
   "source": [
    "os.getcwd()"
   ]
  },
  {
   "cell_type": "code",
   "execution_count": 16,
   "metadata": {},
   "outputs": [],
   "source": [
    "file_path = 'C:\\\\Users\\\\yamin\\\\Documents\\\\Python Scripts\\\\yami_python\\\\Example_Top_Level'"
   ]
  },
  {
   "cell_type": "code",
   "execution_count": 23,
   "metadata": {},
   "outputs": [
    {
     "name": "stdout",
     "output_type": "stream",
     "text": [
      "Currently looking at C:\\Users\\yamin\\Documents\\Python Scripts\\yami_python\\Example_Top_Level\n",
      "\n",
      "\n",
      "The subfolders are\n",
      "Subfolders : MidLevelOne\n",
      "Subfolders : MidLevelTwo\n",
      "\n",
      "\n",
      "the lines are:\n",
      "File: practice.txt\n",
      "\n",
      "\n",
      "Currently looking at C:\\Users\\yamin\\Documents\\Python Scripts\\yami_python\\Example_Top_Level\\MidLevelOne\n",
      "\n",
      "\n",
      "The subfolders are\n",
      "\n",
      "\n",
      "the lines are:\n",
      "File: midlevel1.txt\n",
      "\n",
      "\n",
      "Currently looking at C:\\Users\\yamin\\Documents\\Python Scripts\\yami_python\\Example_Top_Level\\MidLevelTwo\n",
      "\n",
      "\n",
      "The subfolders are\n",
      "\n",
      "\n",
      "the lines are:\n",
      "File: midleveltwo.txt\n",
      "\n",
      "\n"
     ]
    }
   ],
   "source": [
    "for folders, sub_folders , files in os.walk(file_path):\n",
    "    print(f\"Currently looking at {folders}\")\n",
    "    print('\\n')\n",
    "    print('The subfolders are')\n",
    "    for subfold in sub_folders:\n",
    "        print(f\"Subfolders : {subfold}\")\n",
    "        \n",
    "    print('\\n')\n",
    "    print('the lines are:')\n",
    "    for f in files:\n",
    "        print(f\"File: {f}\")\n",
    "        \n",
    "    print('\\n')"
   ]
  },
  {
   "cell_type": "code",
   "execution_count": null,
   "metadata": {},
   "outputs": [],
   "source": []
  }
 ],
 "metadata": {
  "kernelspec": {
   "display_name": "Python 3",
   "language": "python",
   "name": "python3"
  },
  "language_info": {
   "codemirror_mode": {
    "name": "ipython",
    "version": 3
   },
   "file_extension": ".py",
   "mimetype": "text/x-python",
   "name": "python",
   "nbconvert_exporter": "python",
   "pygments_lexer": "ipython3",
   "version": "3.8.3"
  }
 },
 "nbformat": 4,
 "nbformat_minor": 4
}
